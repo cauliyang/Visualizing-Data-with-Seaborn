{
  "cells": [
    {
      "cell_type": "markdown",
      "metadata": {},
      "source": [
        "---\n",
        "title: \"Visualizing Data with Seaborn (Python Track)\"\n",
        "author: \n",
        "  name: \"Yangyang Li\"\n",
        "  email: yangyang.li@northwestern.edu\n",
        "date: \"2024-09-11\"\n",
        "fig-cap-location: bottom\n",
        "format: \n",
        "  revealjs:\n",
        "    theme: simple\n",
        "    slide-number: true\n",
        "    show-slide-number: all\n",
        "    chalkboard: false \n",
        "    embed-resources: true\n",
        "    code-block-height: 650px\n",
        "    transition: slide\n",
        "    incremental: true\n",
        "    margin: 0.05\n",
        "    footer: \"Visualizing Data with Seaborn\"\n",
        "execute:\n",
        "  echo: true\n",
        "---\n",
        "\n",
        "## Introduction\n",
        "\n",
        "- What is Seaborn?\n",
        "- Why use Seaborn for data visualization?\n",
        "- Brief overview of the session\n",
        "\n",
        "## Source Code  \n",
        "\n",
        "\n",
        ":::: {.columns}\n",
        "\n",
        "::: {.column width=\"50%\"}\n",
        "GitHub\n",
        "![](./qr-code.png)\n",
        ":::\n",
        "\n",
        "::: {.column width=\"50%\"}\n",
        "Colab\n",
        ":::\n",
        "\n",
        "::::\n",
        "\n",
        "## Setting Up the Environment"
      ]
    },
    {
      "cell_type": "code",
      "metadata": {},
      "source": [
        "!mkdir data && wget -P data/ https://raw.githubusercontent.com/cauliyang/Visualizing-Data-with-Seaborn/main/data/Crimes_One_year_prior_to_present_first_1001.csv"
      ],
      "execution_count": null,
      "outputs": []
    },
    {
      "cell_type": "markdown",
      "metadata": {},
      "source": [
        "## Setting Up the Environment"
      ]
    },
    {
      "cell_type": "code",
      "metadata": {},
      "source": [
        "# | output: false\n",
        "# | code-line-numbers: \"|6-18\"\n",
        "import numpy as np\n",
        "import pandas as pd\n",
        "import seaborn as sns\n",
        "import matplotlib.pyplot as plt\n",
        "\n",
        "from matplotlib import rcParams\n",
        "\n",
        "# Set global font properties to Arial\n",
        "rcParams.update(\n",
        "    {\n",
        "        \"font.family\": \"sans-serif\",\n",
        "        \"font.sans-serif\": \"Arial\",\n",
        "        \"pdf.fonttype\": 42,  # Embed fonts as Type 3 fonts for compatibility\n",
        "        \"ps.fonttype\": 42,\n",
        "        \"text.usetex\": False,\n",
        "        \"svg.fonttype\": \"none\",\n",
        "    }\n",
        ")\n",
        "\n",
        "\n",
        "def stardize_columns(df):\n",
        "    df.columns = [\" \".join(col.strip().split()) for col in df.columns]\n",
        "    # Basic data cleaning\n",
        "    df[\"DATE OF OCCURRENCE\"] = pd.to_datetime(df[\"DATE OF OCCURRENCE\"])\n",
        "\n",
        "\n",
        "# Load the data\n",
        "df = pd.read_csv(\"data/Crimes_One_year_prior_to_present_first_1001.csv\")\n",
        "stardize_columns(df)"
      ],
      "execution_count": null,
      "outputs": []
    },
    {
      "cell_type": "markdown",
      "metadata": {},
      "source": [
        "## Understanding the Dataset"
      ]
    },
    {
      "cell_type": "code",
      "metadata": {},
      "source": [
        "# | output: true\n",
        "# Display basic information about the dataset\n",
        "print(df.info())"
      ],
      "execution_count": null,
      "outputs": []
    },
    {
      "cell_type": "markdown",
      "metadata": {},
      "source": [
        "data source: https://data.cityofchicago.org/Public-Safety/Crimes-Map\n",
        "\n",
        "## Understanding the Dataset"
      ]
    },
    {
      "cell_type": "code",
      "metadata": {
        "output-location": "slide"
      },
      "source": [
        "#| output: asis\n",
        "from IPython.display import display, HTML\n",
        "\n",
        "# Convert the first 10 rows of the DataFrame to HTML\n",
        "df_html = df.head(10).to_html(classes=\"dataframe\", index=False)\n",
        "\n",
        "# Wrap the table in a div with scrolling\n",
        "html_content = f\"\"\"\n",
        "<div style=\"max-height: 400px; overflow: auto;\">\n",
        "    <style>\n",
        "        .dataframe {{\n",
        "            font-size: 12px;\n",
        "            border-collapse: collapse;\n",
        "            width: 100%;\n",
        "        }}\n",
        "        .dataframe th, .dataframe td {{\n",
        "            border: 1px solid #ddd;\n",
        "            padding: 8px;\n",
        "            text-align: left;\n",
        "        }}\n",
        "        .dataframe tr:nth-child(even) {{background-color: #f2f2f2;}}\n",
        "        .dataframe th {{\n",
        "            background-color: #4CAF50;\n",
        "            color: white;\n",
        "            position: sticky;\n",
        "            top: 0;\n",
        "        }}\n",
        "    </style>\n",
        "    {df_html}\n",
        "</div>\n",
        "\"\"\"\n",
        "\n",
        "display(HTML(html_content))"
      ],
      "execution_count": null,
      "outputs": []
    },
    {
      "cell_type": "markdown",
      "metadata": {},
      "source": [
        "## Introduction to Seaborn Plot Types\n",
        "\n",
        "- Overview of common Seaborn plot types\n",
        "- When to use each plot type\n",
        "- Basic syntax and structure\n",
        "- Complex plot type\n",
        "\n",
        "## Categorical Plots: Bar Plot "
      ]
    },
    {
      "cell_type": "code",
      "metadata": {},
      "source": [
        "sns.countplot(data=df, y='PRIMARY DESCRIPTION', order=df['PRIMARY DESCRIPTION'].value_counts().index[:10])\n",
        "plt.title('Top 10 Crime Types')\n",
        "plt.show()"
      ],
      "execution_count": null,
      "outputs": []
    },
    {
      "cell_type": "markdown",
      "metadata": {},
      "source": [
        "## Further Exploration "
      ]
    },
    {
      "cell_type": "code",
      "metadata": {
        "output-location": "slide"
      },
      "source": [
        "from wordcloud import WordCloud\n",
        "import matplotlib.pyplot as plt\n",
        "\n",
        "\n",
        "# Combine all secondary descriptions into a single string\n",
        "text = \" \".join(df[\"SECONDARY DESCRIPTION\"].dropna())\n",
        "\n",
        "# Create and generate a word cloud image\n",
        "wordcloud = WordCloud(\n",
        "    width=800, height=400, background_color=\"white\", min_font_size=10\n",
        ").generate(text)\n",
        "\n",
        "# Display the generated image\n",
        "plt.figure(figsize=(12, 8))\n",
        "plt.imshow(wordcloud, interpolation=\"bilinear\")\n",
        "plt.axis(\"off\")\n",
        "plt.show()"
      ],
      "execution_count": null,
      "outputs": []
    },
    {
      "cell_type": "markdown",
      "metadata": {},
      "source": [
        "## Categorical Plots: Box Plot"
      ]
    },
    {
      "cell_type": "code",
      "metadata": {},
      "source": [
        "df[\"DAY_OF_WEEK\"] = df[\"DATE OF OCCURRENCE\"].dt.day_name()\n",
        "plt.figure(figsize=(12, 5))\n",
        "sns.boxplot(data=df, x=\"DAY_OF_WEEK\", y=\"DATE OF OCCURRENCE\").set_ylabel(\"Date\")\n",
        "plt.title(\"Distribution of Crimes by Day of the Week\")\n",
        "plt.show()"
      ],
      "execution_count": null,
      "outputs": []
    },
    {
      "cell_type": "markdown",
      "metadata": {},
      "source": [
        "## Categorical Plots: Violin Plot"
      ]
    },
    {
      "cell_type": "code",
      "metadata": {},
      "source": [
        "#| code-line-numbers: \"2\"\n",
        "plt.figure(figsize=(12, 5))\n",
        "sns.violinplot(data=df, x=\"DAY_OF_WEEK\", y=\"DATE OF OCCURRENCE\").set_ylabel(\"Date\")\n",
        "plt.show()"
      ],
      "execution_count": null,
      "outputs": []
    },
    {
      "cell_type": "markdown",
      "metadata": {},
      "source": [
        "## Categorical Plots: Box-and-Whisker Plot"
      ]
    },
    {
      "cell_type": "code",
      "metadata": {},
      "source": [
        "#| code-line-numbers: \"2\"\n",
        "plt.figure(figsize=(12, 5))\n",
        "sns.boxenplot(data=df, x=\"DAY_OF_WEEK\", y=\"DATE OF OCCURRENCE\").set_ylabel(\"Date\")\n",
        "plt.show()"
      ],
      "execution_count": null,
      "outputs": []
    },
    {
      "cell_type": "markdown",
      "metadata": {},
      "source": [
        "## Distribution Plots: Histogram"
      ]
    },
    {
      "cell_type": "code",
      "metadata": {},
      "source": [
        "df[\"HOUR\"] = df[\"DATE OF OCCURRENCE\"].dt.hour\n",
        "plt.figure(figsize=(12, 5))\n",
        "sns.histplot(data=df, x=\"HOUR\", bins=24, kde=True)\n",
        "plt.title(\"Distribution of Crimes by Hour of the Day\")\n",
        "plt.show()"
      ],
      "execution_count": null,
      "outputs": []
    },
    {
      "cell_type": "markdown",
      "metadata": {},
      "source": [
        "## Distribution Plots: KDE Plot"
      ]
    },
    {
      "cell_type": "code",
      "metadata": {},
      "source": [
        "plt.figure(figsize=(12, 6))\n",
        "sns.kdeplot(data=df, x=\"HOUR\", hue=\"PRIMARY DESCRIPTION\", common_norm=False)\n",
        "plt.title(\"Distribution of Different Crime Types by Hour\")\n",
        "plt.show()"
      ],
      "execution_count": null,
      "outputs": []
    },
    {
      "cell_type": "markdown",
      "metadata": {},
      "source": [
        "## Relational Plots: Scatter Plot"
      ]
    },
    {
      "cell_type": "code",
      "metadata": {
        "output-location": "slide"
      },
      "source": [
        "plt.figure(figsize=(12, 8))\n",
        "sns.scatterplot(data=df, x=\"LONGITUDE\", y=\"LATITUDE\", hue=\"PRIMARY DESCRIPTION\")\n",
        "plt.title(\"Geographical Distribution of Crimes\")\n",
        "plt.show()"
      ],
      "execution_count": null,
      "outputs": []
    },
    {
      "cell_type": "markdown",
      "metadata": {},
      "source": [
        "## Relational Plots: Line Plot"
      ]
    },
    {
      "cell_type": "code",
      "metadata": {},
      "source": [
        "crime_counts = df.groupby(\"DATE OF OCCURRENCE\").size().reset_index(name=\"COUNT\")\n",
        "plt.figure(figsize=(10, 5))\n",
        "sns.lineplot(data=crime_counts, x=\"DATE OF OCCURRENCE\", y=\"COUNT\")\n",
        "plt.title(\"Crime Trends Over Time\")\n",
        "plt.xticks(rotation=45)\n",
        "plt.show()"
      ],
      "execution_count": null,
      "outputs": []
    },
    {
      "cell_type": "markdown",
      "metadata": {},
      "source": [
        "## Advanced Customization"
      ]
    },
    {
      "cell_type": "code",
      "metadata": {
        "output-location": "slide"
      },
      "source": [
        "plt.figure(figsize=(14, 6))\n",
        "sns.set_style(\"whitegrid\")\n",
        "sns.set_palette(\"deep\")\n",
        "\n",
        "g = sns.countplot(\n",
        "    data=df,\n",
        "    y=\"PRIMARY DESCRIPTION\",\n",
        "    order=df[\"PRIMARY DESCRIPTION\"].value_counts().index[:10],\n",
        ")\n",
        "\n",
        "g.set_title(\"Top 10 Crime Types\", fontsize=20)\n",
        "g.set_xlabel(\"Count\", fontsize=14)\n",
        "g.set_ylabel(\"Crime Type\", fontsize=14)\n",
        "\n",
        "for i, v in enumerate(df[\"PRIMARY DESCRIPTION\"].value_counts()[:10]):\n",
        "    g.text(v + 3, i, str(v), color=\"black\", va=\"center\")\n",
        "\n",
        "plt.tight_layout()\n",
        "plt.show()"
      ],
      "execution_count": null,
      "outputs": []
    },
    {
      "cell_type": "markdown",
      "metadata": {},
      "source": [
        "## Summary \n",
        "\n",
        "![](./function_overview_8_0.png)\n",
        "\n",
        "\n",
        "## Heatmap\n",
        "\n",
        "- Useful for visualizing correlation between variables\n",
        "- Can show patterns and relationships in complex datasets"
      ]
    },
    {
      "cell_type": "code",
      "metadata": {
        "output-location": "slide"
      },
      "source": [
        "# Select numeric columns\n",
        "numeric_cols = df.select_dtypes(include=[np.number]).columns\n",
        "\n",
        "# Compute correlation matrix\n",
        "corr_matrix = df[numeric_cols].corr()\n",
        "\n",
        "# Create heatmap\n",
        "plt.figure(figsize=(6, 6))\n",
        "sns.heatmap(corr_matrix, annot=True, cmap=\"coolwarm\", linewidths=0.5)\n",
        "plt.xticks(rotation=45, ha=\"right\")\n",
        "plt.show()  ## Customized Heatmap "
      ],
      "execution_count": null,
      "outputs": []
    },
    {
      "cell_type": "markdown",
      "metadata": {},
      "source": [
        "## Customized Heatmap"
      ]
    },
    {
      "cell_type": "code",
      "metadata": {
        "output-location": "slide"
      },
      "source": [
        "#| code-line-numbers: '8'\n",
        "# Select numeric columns\n",
        "numeric_cols = df.select_dtypes(include=[np.number]).columns\n",
        "\n",
        "# Compute correlation matrix\n",
        "corr_matrix = df[numeric_cols].corr()\n",
        "\n",
        "# Create a mask for the upper triangle\n",
        "mask = np.triu(np.ones_like(corr_matrix, dtype=bool))\n",
        "\n",
        "# Set up the matplotlib figure\n",
        "plt.figure(figsize=(8, 8))\n",
        "\n",
        "# Create heatmap with only upper triangle\n",
        "sns.heatmap(\n",
        "    corr_matrix,\n",
        "    mask=mask,\n",
        "    annot=True,\n",
        "    cmap=\"coolwarm\",\n",
        "    vmin=-1,\n",
        "    vmax=1,\n",
        "    center=0,\n",
        "    square=True,\n",
        "    linewidths=0.5,\n",
        "    cbar_kws={\"shrink\": 0.8},\n",
        "    fmt=\".2f\",\n",
        ")\n",
        "plt.xticks(rotation=45, ha=\"right\")\n",
        "plt.show()"
      ],
      "execution_count": null,
      "outputs": []
    },
    {
      "cell_type": "markdown",
      "metadata": {},
      "source": [
        "## Pair Plot \n",
        "\n",
        "- Useful for exploring relationships between multiple variables\n",
        "- Creates a grid of scatter plots for each pair of variables\n",
        "\n",
        "## Pair Plot {.scrollable}"
      ]
    },
    {
      "cell_type": "code",
      "metadata": {
        "output-location": "slide"
      },
      "source": [
        "# Select relevant columns for the pair plot\n",
        "cols_to_plot = [\"X COORDINATE\", \"Y COORDINATE\", \"LATITUDE\", \"LONGITUDE\"]\n",
        "\n",
        "# Add hour of day\n",
        "df[\"HOUR\"] = pd.to_datetime(df[\"DATE OF OCCURRENCE\"]).dt.hour\n",
        "\n",
        "# Create the pair plot\n",
        "plt.figure(figsize=(5, 5))\n",
        "pairplot = sns.pairplot(\n",
        "    df[cols_to_plot + [\"HOUR\", \"PRIMARY DESCRIPTION\"]],\n",
        "    hue=\"PRIMARY DESCRIPTION\",\n",
        "    palette=\"viridis\",\n",
        "    plot_kws={\"alpha\": 0.6},\n",
        "    diag_kind=\"kde\",\n",
        ")\n",
        "plt.tight_layout()\n",
        "plt.show()"
      ],
      "execution_count": null,
      "outputs": []
    },
    {
      "cell_type": "markdown",
      "metadata": {},
      "source": [
        "## Regression Plot\n",
        "\n",
        "- Visualizes the relationship between two variables\n",
        "- Includes a linear regression line and confidence interval"
      ]
    },
    {
      "cell_type": "code",
      "metadata": {
        "output-location": "slide"
      },
      "source": [
        "#| code-line-numbers: '1'\n",
        "sns.lmplot(\n",
        "    data=df,\n",
        "    x=\"BEAT\",\n",
        "    y=\"WARD\",\n",
        "    col=\"ARREST\",\n",
        "    row=\"DOMESTIC\",\n",
        "    height=3,\n",
        "    aspect=2,\n",
        "    facet_kws=dict(sharex=False, sharey=False),\n",
        "    scatter_kws={\"alpha\": 0.5},\n",
        ")\n",
        "plt.title(\"Regression Plot: Latitude vs Longitude of Crime Occurrences\")\n",
        "plt.show()"
      ],
      "execution_count": null,
      "outputs": []
    },
    {
      "cell_type": "markdown",
      "metadata": {},
      "source": [
        "## Advanced Seaborn: FacetGrid {.scrollable}\n",
        "\n",
        "- Demonstrates how to create multiple plots in a grid\n",
        "- Useful for comparing distributions across categories"
      ]
    },
    {
      "cell_type": "code",
      "metadata": {
        "output-location": "slide"
      },
      "source": [
        "# Create a FacetGrid\n",
        "plt.figure(figsize=(4, 4))\n",
        "g = sns.FacetGrid(df, col=\"PRIMARY DESCRIPTION\", col_wrap=3, height=4, aspect=1.5)\n",
        "\n",
        "# Map a histogram to each subplot\n",
        "g.map(plt.hist, \"HOUR\", bins=24)\n",
        "\n",
        "# Customize the plot\n",
        "g.set_axis_labels(\"Hour of Day\", \"Count\")\n",
        "g.set_titles(\"{col_name}\")\n",
        "g.fig.suptitle(\"Distribution of Crimes by Hour for Different Crime Types\", y=1.02)\n",
        "g.tight_layout()\n",
        "plt.show()"
      ],
      "execution_count": null,
      "outputs": []
    },
    {
      "cell_type": "markdown",
      "metadata": {},
      "source": [
        "## Best Practices and Tips\n",
        "\n",
        "- Choosing the right plot for your data\n",
        "- Pay attention to color choices and accessibility\n",
        "- Avoiding common pitfalls\n",
        "- Consider the story your visualization is telling\n",
        "\n",
        "\n",
        "## Q&A \n",
        "\n",
        "- Q&A session\n",
        "\n",
        "\n",
        "## Additional resources  Resours \n",
        "\n",
        "- https://seaborn.pydata.org\n",
        "- https://www.data-to-viz.com/\n",
        "- https://data.cityofchicago.org/Public-Safety/Crimes-One-year-prior-to-present/x2n5-8w5q/data\n",
        "- https://quarto.org/docs/presentations/revealjs/"
      ]
    }
  ],
  "metadata": {
    "kernelspec": {
      "name": "python3",
      "language": "python",
      "display_name": "Python 3 (ipykernel)",
      "path": "/Users/ylk4626/miniforge3/share/jupyter/kernels/python3"
    }
  },
  "nbformat": 4,
  "nbformat_minor": 4
}