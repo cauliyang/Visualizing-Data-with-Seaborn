{
  "cells": [
    {
      "cell_type": "markdown",
      "metadata": {},
      "source": [
        "# Visualizing Data with Seaborn (Python Track)"
      ]
    },
    {
      "cell_type": "markdown",
      "metadata": {},
      "source": [
        "## Introduction\n",
        "\n",
        "- What is Seaborn?\n",
        "- Why use Seaborn for data visualization?\n",
        "- Brief overview of the session"
      ]
    },
    {
      "cell_type": "markdown",
      "metadata": {},
      "source": [
        "## Setting Up the Environment"
      ]
    },
    {
      "cell_type": "code",
      "execution_count": null,
      "metadata": {},
      "outputs": [],
      "source": [
        "# | output: false\n",
        "# | code-line-numbers: \"|6-18|29\"\n",
        "import numpy as np\n",
        "import pandas as pd\n",
        "import seaborn as sns\n",
        "import matplotlib.pyplot as plt\n",
        "\n",
        "# from matplotlib import rcParams\n",
        "# # Set global font properties to Arial\n",
        "# rcParams.update(\n",
        "#     {\n",
        "#         \"font.family\": \"sans-serif\",\n",
        "#         \"font.sans-serif\": \"Arial\",\n",
        "#         \"pdf.fonttype\": 42,  # Embed fonts as Type 3 fonts for compatibility\n",
        "#         \"ps.fonttype\": 42,\n",
        "#         \"text.usetex\": False,\n",
        "#         \"svg.fonttype\": \"none\",\n",
        "#     }\n",
        "# )\n",
        "\n",
        "\n",
        "def stardize_columns(df):\n",
        "    df.columns = [\" \".join(col.strip().split()) for col in df.columns]\n",
        "    # Basic data cleaning\n",
        "    df[\"DATE OF OCCURRENCE\"] = pd.to_datetime(df[\"DATE OF OCCURRENCE\"])\n",
        "\n",
        "\n",
        "# Load the data\n",
        "df = pd.read_csv(\n",
        "    \"https://raw.githubusercontent.com/cauliyang/Visualizing-Data-with-Seaborn/main/data/Crimes_One_year_prior_to_present.csv\",\n",
        "    nrows=1000,\n",
        ")\n",
        "stardize_columns(df)"
      ]
    },
    {
      "cell_type": "markdown",
      "metadata": {},
      "source": [
        "## Understanding the Dataset"
      ]
    },
    {
      "cell_type": "code",
      "execution_count": null,
      "metadata": {},
      "outputs": [],
      "source": [
        "# Exercise: Explore the dataset\n",
        "# 1. Use df.info() to display basic information about the dataset\n",
        "# 2. Use df.head() to show the first few rows\n",
        "\n",
        "# Your code here:\n",
        "\n",
        "\n",
        "# What insights can you gather from this initial exploration?"
      ]
    },
    {
      "cell_type": "markdown",
      "metadata": {},
      "source": [
        "data source: https://data.cityofchicago.org/Public-Safety/Crimes-Map"
      ]
    },
    {
      "cell_type": "markdown",
      "metadata": {},
      "source": [
        "## Introduction to Seaborn Plot Types\n",
        "\n",
        "- Overview of common Seaborn plot types\n",
        "- When to use each plot type\n",
        "- Basic syntax and structure\n",
        "- Complex plot type\n",
        "\n",
        "\n",
        "## Categorical Plots: Bar Plot "
      ]
    },
    {
      "cell_type": "code",
      "execution_count": null,
      "metadata": {},
      "outputs": [],
      "source": [
        "sns.countplot(data=df, y='PRIMARY DESCRIPTION', order=df['PRIMARY DESCRIPTION'].value_counts().index[:10])\n",
        "plt.title('Top 10 Crime Types')\n",
        "plt.show()"
      ]
    },
    {
      "cell_type": "markdown",
      "metadata": {},
      "source": [
        "\n",
        "\n",
        "## Further Exploration "
      ]
    },
    {
      "cell_type": "code",
      "execution_count": null,
      "metadata": {
        "output-location": "slide"
      },
      "outputs": [],
      "source": [
        "from wordcloud import WordCloud\n",
        "import matplotlib.pyplot as plt\n",
        "\n",
        "# Combine all secondary descriptions into a single string\n",
        "text = \" \".join(df[\"SECONDARY DESCRIPTION\"].dropna())\n",
        "\n",
        "# Create and generate a word cloud image\n",
        "wordcloud = WordCloud(\n",
        "    width=800, height=400, background_color=\"white\", min_font_size=10\n",
        ").generate(text)\n",
        "\n",
        "# Display the generated image\n",
        "plt.figure(figsize=(12, 8))\n",
        "plt.imshow(wordcloud, interpolation=\"bilinear\")\n",
        "plt.axis(\"off\")\n",
        "plt.show()"
      ]
    },
    {
      "cell_type": "markdown",
      "metadata": {},
      "source": [
        "## Distribution Plots: Histogram"
      ]
    },
    {
      "cell_type": "code",
      "execution_count": null,
      "metadata": {},
      "outputs": [],
      "source": [
        "df[\"HOUR\"] = df[\"DATE OF OCCURRENCE\"].dt.hour\n",
        "plt.figure(figsize=(12, 5))\n",
        "sns.histplot(data=df, x=\"HOUR\", bins=24, kde=True)\n",
        "plt.title(\"Distribution of Crimes by Hour of the Day\")\n",
        "plt.show()"
      ]
    },
    {
      "cell_type": "markdown",
      "metadata": {},
      "source": [
        "## Distribution Plots: KDE Plot"
      ]
    },
    {
      "cell_type": "code",
      "execution_count": null,
      "metadata": {},
      "outputs": [],
      "source": [
        "plt.figure(figsize=(12, 6))\n",
        "sns.kdeplot(data=df, x=\"HOUR\", hue=\"PRIMARY DESCRIPTION\", common_norm=False)\n",
        "plt.title(\"Distribution of Different Crime Types by Hour\")\n",
        "plt.show()"
      ]
    },
    {
      "cell_type": "markdown",
      "metadata": {},
      "source": [
        "## Relational Plots: Scatter Plot"
      ]
    },
    {
      "cell_type": "code",
      "execution_count": null,
      "metadata": {
        "output-location": "slide"
      },
      "outputs": [],
      "source": [
        "plt.figure(figsize=(12, 8))\n",
        "sns.scatterplot(data=df, x=\"LONGITUDE\", y=\"LATITUDE\", hue=\"PRIMARY DESCRIPTION\")\n",
        "plt.title(\"Geographical Distribution of Crimes\")\n",
        "plt.show()"
      ]
    },
    {
      "cell_type": "markdown",
      "metadata": {},
      "source": [
        "## Relational Plots: Line Plot"
      ]
    },
    {
      "cell_type": "code",
      "execution_count": null,
      "metadata": {},
      "outputs": [],
      "source": [
        "crime_counts = df.groupby(\"DATE OF OCCURRENCE\").size().reset_index(name=\"COUNT\")\n",
        "plt.figure(figsize=(10, 5))\n",
        "sns.lineplot(data=crime_counts, x=\"DATE OF OCCURRENCE\", y=\"COUNT\")\n",
        "plt.title(\"Crime Trends Over Time\")\n",
        "plt.xticks(rotation=45)\n",
        "plt.show()"
      ]
    },
    {
      "cell_type": "markdown",
      "metadata": {},
      "source": [
        "## Advanced Customization"
      ]
    },
    {
      "cell_type": "code",
      "execution_count": null,
      "metadata": {
        "output-location": "slide"
      },
      "outputs": [],
      "source": [
        "plt.figure(figsize=(14, 6))\n",
        "sns.set_style(\"whitegrid\")\n",
        "sns.set_palette(\"deep\")\n",
        "\n",
        "g = sns.countplot(\n",
        "    data=df,\n",
        "    y=\"PRIMARY DESCRIPTION\",\n",
        "    order=df[\"PRIMARY DESCRIPTION\"].value_counts().index[:10],\n",
        ")\n",
        "\n",
        "g.set_title(\"Top 10 Crime Types\", fontsize=20)\n",
        "g.set_xlabel(\"Count\", fontsize=14)\n",
        "g.set_ylabel(\"Crime Type\", fontsize=14)\n",
        "\n",
        "for i, v in enumerate(df[\"PRIMARY DESCRIPTION\"].value_counts()[:10]):\n",
        "    g.text(v + 3, i, str(v), color=\"black\", va=\"center\")\n",
        "\n",
        "plt.tight_layout()\n",
        "plt.show()"
      ]
    },
    {
      "cell_type": "markdown",
      "metadata": {},
      "source": [
        "## Categorical Plots: Box Plot"
      ]
    },
    {
      "cell_type": "code",
      "execution_count": null,
      "metadata": {},
      "outputs": [],
      "source": [
        "df[\"DAY_OF_WEEK\"] = df[\"DATE OF OCCURRENCE\"].dt.day_name()\n",
        "plt.figure(figsize=(12, 5))\n",
        "sns.boxplot(data=df, x=\"DAY_OF_WEEK\", y=\"DATE OF OCCURRENCE\").set_ylabel(\"Date\")\n",
        "plt.title(\"Distribution of Crimes by Day of the Week\")\n",
        "plt.show()"
      ]
    },
    {
      "cell_type": "markdown",
      "metadata": {},
      "source": [
        "\n",
        "## Categorical Plots: Violin Plot\n",
        "\n",
        "Now, it's your turn!"
      ]
    },
    {
      "cell_type": "code",
      "execution_count": null,
      "metadata": {},
      "outputs": [],
      "source": [
        "# | output: false\n",
        "\n",
        "# Exercise: Change the violinplot to a boxenplot\n",
        "# Hint: Use sns.violinplot()\n",
        "\n",
        "plt.figure(figsize=(12, 5))\n",
        "# Your code here:\n",
        "\n",
        "plt.title(\"Distribution of Crimes by Day of the Week\")\n",
        "plt.show()"
      ]
    },
    {
      "cell_type": "markdown",
      "metadata": {},
      "source": [
        "## Categorical Plots: Violin Plot"
      ]
    },
    {
      "cell_type": "code",
      "execution_count": null,
      "metadata": {},
      "outputs": [],
      "source": [
        "#| code-line-numbers: \"2\"\n",
        "plt.figure(figsize=(12, 5))\n",
        "sns.violinplot(data=df, x=\"DAY_OF_WEEK\", y=\"DATE OF OCCURRENCE\").set_ylabel(\"Date\")\n",
        "plt.show()"
      ]
    },
    {
      "cell_type": "markdown",
      "metadata": {},
      "source": [
        "## Categorical Plots: Box-and-Whisker Plot\n",
        "\n",
        "Now, it's your turn!"
      ]
    },
    {
      "cell_type": "code",
      "execution_count": null,
      "metadata": {},
      "outputs": [],
      "source": [
        "# | output: false\n",
        "\n",
        "# Exercise: Change the violinplot to a boxenplot\n",
        "# Hint: Use sns.boxenplot()\n",
        "\n",
        "plt.figure(figsize=(12, 5))\n",
        "# Your code here:\n",
        "\n",
        "plt.title(\"Distribution of Crimes by Day of the Week\")\n",
        "plt.show()"
      ]
    },
    {
      "cell_type": "markdown",
      "metadata": {},
      "source": [
        "## Categorical Plots: Box-and-Whisker Plot"
      ]
    },
    {
      "cell_type": "code",
      "execution_count": null,
      "metadata": {},
      "outputs": [],
      "source": [
        "#| code-line-numbers: \"2\"\n",
        "plt.figure(figsize=(12, 5))\n",
        "sns.boxenplot(data=df, x=\"DAY_OF_WEEK\", y=\"DATE OF OCCURRENCE\").set_ylabel(\"Date\")\n",
        "plt.show()"
      ]
    },
    {
      "cell_type": "markdown",
      "metadata": {},
      "source": [
        "## Summary \n",
        "\n",
        "![](images/function_overview_8_0.png)\n",
        "\n",
        "## Heatmap\n",
        "\n",
        "- Useful for visualizing correlation between variables\n",
        "- Can show patterns and relationships in complex datasets"
      ]
    },
    {
      "cell_type": "code",
      "execution_count": null,
      "metadata": {
        "output-location": "slide"
      },
      "outputs": [],
      "source": [
        "# Select numeric columns\n",
        "numeric_cols = df.select_dtypes(include=[np.number]).columns\n",
        "\n",
        "# Compute correlation matrix\n",
        "corr_matrix = df[numeric_cols].corr()\n",
        "\n",
        "# Create heatmap\n",
        "plt.figure(figsize=(6, 6))\n",
        "sns.heatmap(corr_matrix, annot=True, cmap=\"coolwarm\", linewidths=0.5)\n",
        "plt.xticks(rotation=45, ha=\"right\")\n",
        "plt.show()  ## Customized Heatmap "
      ]
    },
    {
      "cell_type": "markdown",
      "metadata": {},
      "source": [
        "Hint: Try `sns.heatmap()` with `annot=False`.\n",
        "\n",
        "## Customized Heatmap\n",
        "\n",
        "Hint: Try `np.tril` instead of `np.triu`."
      ]
    },
    {
      "cell_type": "code",
      "execution_count": null,
      "metadata": {
        "output-location": "slide"
      },
      "outputs": [],
      "source": [
        "#| code-line-numbers: '8'\n",
        "# Select numeric columns\n",
        "numeric_cols = df.select_dtypes(include=[np.number]).columns\n",
        "\n",
        "# Compute correlation matrix\n",
        "corr_matrix = df[numeric_cols].corr()\n",
        "\n",
        "# Create a mask for the upper triangle\n",
        "mask = np.triu(np.ones_like(corr_matrix, dtype=bool))\n",
        "\n",
        "# Set up the matplotlib figure\n",
        "plt.figure(figsize=(8, 8))\n",
        "\n",
        "# Create heatmap with only upper triangle\n",
        "sns.heatmap(\n",
        "    corr_matrix,\n",
        "    mask=mask,\n",
        "    annot=True,\n",
        "    cmap=\"coolwarm\",\n",
        "    vmin=-1,\n",
        "    vmax=1,\n",
        "    center=0,\n",
        "    square=True,\n",
        "    linewidths=0.5,\n",
        "    cbar_kws={\"shrink\": 0.8},\n",
        "    fmt=\".2f\",\n",
        ")\n",
        "plt.xticks(rotation=45, ha=\"right\")\n",
        "plt.show()"
      ]
    },
    {
      "cell_type": "markdown",
      "metadata": {},
      "source": [
        "## Pair Plot \n",
        "\n",
        "- Useful for exploring relationships between multiple variables\n",
        "- Creates a grid of scatter plots for each pair of variables\n",
        "\n",
        "## Pair Plot {.scrollable}"
      ]
    },
    {
      "cell_type": "code",
      "execution_count": null,
      "metadata": {
        "output-location": "slide"
      },
      "outputs": [],
      "source": [
        "# Select relevant columns for the pair plot\n",
        "# Hint: Choose a few relevant columns and use sns.pairplot()\n",
        "cols_to_plot = [\"X COORDINATE\", \"Y COORDINATE\", \"LATITUDE\", \"LONGITUDE\"]\n",
        "\n",
        "# Add hour of day\n",
        "df[\"HOUR\"] = pd.to_datetime(df[\"DATE OF OCCURRENCE\"]).dt.hour\n",
        "\n",
        "# Create the pair plot\n",
        "plt.figure(figsize=(5, 5))\n",
        "pairplot = sns.pairplot(\n",
        "    df[cols_to_plot + [\"HOUR\", \"PRIMARY DESCRIPTION\"]],\n",
        "    hue=\"PRIMARY DESCRIPTION\",\n",
        "    palette=\"viridis\",\n",
        "    plot_kws={\"alpha\": 0.6},\n",
        "    diag_kind=\"kde\",\n",
        ")\n",
        "plt.tight_layout()\n",
        "plt.show()"
      ]
    },
    {
      "cell_type": "markdown",
      "metadata": {},
      "source": [
        "## Regression Plot\n",
        "\n",
        "- Visualizes the relationship between two variables\n",
        "- Includes a linear regression line and confidence interval"
      ]
    },
    {
      "cell_type": "code",
      "execution_count": null,
      "metadata": {
        "output-location": "slide"
      },
      "outputs": [],
      "source": [
        "#| code-line-numbers: '1'\n",
        "sns.lmplot(\n",
        "    data=df,\n",
        "    x=\"BEAT\",\n",
        "    y=\"WARD\",\n",
        "    col=\"ARREST\",\n",
        "    row=\"DOMESTIC\",\n",
        "    height=3,\n",
        "    aspect=2,\n",
        "    facet_kws=dict(sharex=False, sharey=False),\n",
        "    scatter_kws={\"alpha\": 0.5},\n",
        ")\n",
        "plt.title(\"Regression Plot: Latitude vs Longitude of Crime Occurrences\")\n",
        "plt.show()"
      ]
    },
    {
      "cell_type": "markdown",
      "metadata": {},
      "source": [
        "## Advanced Seaborn: FacetGrid {.scrollable}\n",
        "\n",
        "- Demonstrates how to create multiple plots in a grid\n",
        "- Useful for comparing distributions across categories"
      ]
    },
    {
      "cell_type": "code",
      "execution_count": null,
      "metadata": {
        "output-location": "slide"
      },
      "outputs": [],
      "source": [
        "# Create a FacetGrid\n",
        "plt.figure(figsize=(4, 4))\n",
        "g = sns.FacetGrid(df, col=\"PRIMARY DESCRIPTION\", col_wrap=3, height=4, aspect=1.5)\n",
        "\n",
        "# Map a histogram to each subplot\n",
        "g.map(plt.hist, \"HOUR\", bins=24)\n",
        "\n",
        "# Customize the plot\n",
        "g.set_axis_labels(\"Hour of Day\", \"Count\")\n",
        "g.set_titles(\"{col_name}\")\n",
        "g.fig.suptitle(\"Distribution of Crimes by Hour for Different Crime Types\", y=1.02)\n",
        "g.tight_layout()\n",
        "plt.show()"
      ]
    },
    {
      "cell_type": "markdown",
      "metadata": {},
      "source": [
        "## Best Practices and Tips\n",
        "\n",
        "- Choosing the right plot for your data\n",
        "- Pay attention to color choices and accessibility\n",
        "- Avoiding common pitfalls\n",
        "- Consider the story your visualization is telling\n",
        "\n",
        "\n",
        "## Q&A \n",
        "\n",
        "- Q&A session\n",
        "\n",
        "\n",
        "## Additional resources  Resours \n",
        "\n",
        "- https://seaborn.pydata.org\n",
        "- https://www.data-to-viz.com/\n",
        "- https://data.cityofchicago.org/Public-Safety/Crimes-One-year-prior-to-present/x2n5-8w5q/data\n",
        "- https://quarto.org/docs/presentations/revealjs/\n",
        "- https://seaborn.pydata.org/examples\n",
        "- https://seaborn.pydata.org/tutorial/color_palettes"
      ]
    }
  ],
  "metadata": {
    "kernelspec": {
      "display_name": "Python 3 (ipykernel)",
      "language": "python",
      "name": "python3",
      "path": "/Users/ylk4626/miniforge3/share/jupyter/kernels/python3"
    }
  },
  "nbformat": 4,
  "nbformat_minor": 4
}
